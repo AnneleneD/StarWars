{
 "cells": [
  {
   "cell_type": "code",
   "execution_count": 24,
   "metadata": {},
   "outputs": [],
   "source": [
    "import pandas as pd\n",
    "star_wars = pd.read_csv(\"/Users/adecaux/desktop/data science/starwars.csv\", encoding=\"ISO-8859-1\")"
   ]
  },
  {
   "cell_type": "code",
   "execution_count": 25,
   "metadata": {
    "collapsed": true
   },
   "outputs": [
    {
     "name": "stdout",
     "output_type": "stream",
     "text": [
      "   RespondentID Have you seen any of the 6 films in the Star Wars franchise?  \\\n",
      "0           NaN                                           Response             \n",
      "1  3.292880e+09                                                Yes             \n",
      "2  3.292880e+09                                                 No             \n",
      "3  3.292765e+09                                                Yes             \n",
      "4  3.292763e+09                                                Yes             \n",
      "5  3.292731e+09                                                Yes             \n",
      "6  3.292719e+09                                                Yes             \n",
      "7  3.292685e+09                                                Yes             \n",
      "8  3.292664e+09                                                Yes             \n",
      "9  3.292654e+09                                                Yes             \n",
      "\n",
      "  Do you consider yourself to be a fan of the Star Wars film franchise?  \\\n",
      "0                                           Response                      \n",
      "1                                                Yes                      \n",
      "2                                                NaN                      \n",
      "3                                                 No                      \n",
      "4                                                Yes                      \n",
      "5                                                Yes                      \n",
      "6                                                Yes                      \n",
      "7                                                Yes                      \n",
      "8                                                Yes                      \n",
      "9                                                Yes                      \n",
      "\n",
      "  Which of the following Star Wars films have you seen? Please select all that apply.  \\\n",
      "0           Star Wars: Episode I  The Phantom Menace                                    \n",
      "1           Star Wars: Episode I  The Phantom Menace                                    \n",
      "2                                                NaN                                    \n",
      "3           Star Wars: Episode I  The Phantom Menace                                    \n",
      "4           Star Wars: Episode I  The Phantom Menace                                    \n",
      "5           Star Wars: Episode I  The Phantom Menace                                    \n",
      "6           Star Wars: Episode I  The Phantom Menace                                    \n",
      "7           Star Wars: Episode I  The Phantom Menace                                    \n",
      "8           Star Wars: Episode I  The Phantom Menace                                    \n",
      "9           Star Wars: Episode I  The Phantom Menace                                    \n",
      "\n",
      "                                    Unnamed: 4  \\\n",
      "0  Star Wars: Episode II  Attack of the Clones   \n",
      "1  Star Wars: Episode II  Attack of the Clones   \n",
      "2                                          NaN   \n",
      "3  Star Wars: Episode II  Attack of the Clones   \n",
      "4  Star Wars: Episode II  Attack of the Clones   \n",
      "5  Star Wars: Episode II  Attack of the Clones   \n",
      "6  Star Wars: Episode II  Attack of the Clones   \n",
      "7  Star Wars: Episode II  Attack of the Clones   \n",
      "8  Star Wars: Episode II  Attack of the Clones   \n",
      "9  Star Wars: Episode II  Attack of the Clones   \n",
      "\n",
      "                                    Unnamed: 5  \\\n",
      "0  Star Wars: Episode III  Revenge of the Sith   \n",
      "1  Star Wars: Episode III  Revenge of the Sith   \n",
      "2                                          NaN   \n",
      "3  Star Wars: Episode III  Revenge of the Sith   \n",
      "4  Star Wars: Episode III  Revenge of the Sith   \n",
      "5  Star Wars: Episode III  Revenge of the Sith   \n",
      "6  Star Wars: Episode III  Revenge of the Sith   \n",
      "7  Star Wars: Episode III  Revenge of the Sith   \n",
      "8  Star Wars: Episode III  Revenge of the Sith   \n",
      "9  Star Wars: Episode III  Revenge of the Sith   \n",
      "\n",
      "                          Unnamed: 6  \\\n",
      "0  Star Wars: Episode IV  A New Hope   \n",
      "1  Star Wars: Episode IV  A New Hope   \n",
      "2                                NaN   \n",
      "3                                NaN   \n",
      "4  Star Wars: Episode IV  A New Hope   \n",
      "5  Star Wars: Episode IV  A New Hope   \n",
      "6  Star Wars: Episode IV  A New Hope   \n",
      "7  Star Wars: Episode IV  A New Hope   \n",
      "8  Star Wars: Episode IV  A New Hope   \n",
      "9  Star Wars: Episode IV  A New Hope   \n",
      "\n",
      "                                     Unnamed: 7  \\\n",
      "0  Star Wars: Episode V The Empire Strikes Back   \n",
      "1  Star Wars: Episode V The Empire Strikes Back   \n",
      "2                                           NaN   \n",
      "3                                           NaN   \n",
      "4  Star Wars: Episode V The Empire Strikes Back   \n",
      "5  Star Wars: Episode V The Empire Strikes Back   \n",
      "6  Star Wars: Episode V The Empire Strikes Back   \n",
      "7  Star Wars: Episode V The Empire Strikes Back   \n",
      "8  Star Wars: Episode V The Empire Strikes Back   \n",
      "9  Star Wars: Episode V The Empire Strikes Back   \n",
      "\n",
      "                                 Unnamed: 8  \\\n",
      "0  Star Wars: Episode VI Return of the Jedi   \n",
      "1  Star Wars: Episode VI Return of the Jedi   \n",
      "2                                       NaN   \n",
      "3                                       NaN   \n",
      "4  Star Wars: Episode VI Return of the Jedi   \n",
      "5  Star Wars: Episode VI Return of the Jedi   \n",
      "6  Star Wars: Episode VI Return of the Jedi   \n",
      "7  Star Wars: Episode VI Return of the Jedi   \n",
      "8  Star Wars: Episode VI Return of the Jedi   \n",
      "9  Star Wars: Episode VI Return of the Jedi   \n",
      "\n",
      "  Please rank the Star Wars films in order of preference with 1 being your favorite film in the franchise and 6 being your least favorite film.  \\\n",
      "0           Star Wars: Episode I  The Phantom Menace                                                                                              \n",
      "1                                                  3                                                                                              \n",
      "2                                                NaN                                                                                              \n",
      "3                                                  1                                                                                              \n",
      "4                                                  5                                                                                              \n",
      "5                                                  5                                                                                              \n",
      "6                                                  1                                                                                              \n",
      "7                                                  6                                                                                              \n",
      "8                                                  4                                                                                              \n",
      "9                                                  5                                                                                              \n",
      "\n",
      "            ...                    Unnamed: 28  \\\n",
      "0           ...                           Yoda   \n",
      "1           ...                 Very favorably   \n",
      "2           ...                            NaN   \n",
      "3           ...               Unfamiliar (N/A)   \n",
      "4           ...                 Very favorably   \n",
      "5           ...             Somewhat favorably   \n",
      "6           ...                 Very favorably   \n",
      "7           ...                 Very favorably   \n",
      "8           ...                 Very favorably   \n",
      "9           ...             Somewhat favorably   \n",
      "\n",
      "        Which character shot first?  \\\n",
      "0                          Response   \n",
      "1  I don't understand this question   \n",
      "2                               NaN   \n",
      "3  I don't understand this question   \n",
      "4  I don't understand this question   \n",
      "5                            Greedo   \n",
      "6                               Han   \n",
      "7                               Han   \n",
      "8                               Han   \n",
      "9                               Han   \n",
      "\n",
      "  Are you familiar with the Expanded Universe?  \\\n",
      "0                                     Response   \n",
      "1                                          Yes   \n",
      "2                                          NaN   \n",
      "3                                           No   \n",
      "4                                           No   \n",
      "5                                          Yes   \n",
      "6                                          Yes   \n",
      "7                                          Yes   \n",
      "8                                           No   \n",
      "9                                           No   \n",
      "\n",
      "  Do you consider yourself to be a fan of the Expanded Universe?æ  \\\n",
      "0                                           Response                 \n",
      "1                                                 No                 \n",
      "2                                                NaN                 \n",
      "3                                                NaN                 \n",
      "4                                                NaN                 \n",
      "5                                                 No                 \n",
      "6                                                 No                 \n",
      "7                                                 No                 \n",
      "8                                                NaN                 \n",
      "9                                                NaN                 \n",
      "\n",
      "  Do you consider yourself to be a fan of the Star Trek franchise?    Gender  \\\n",
      "0                                           Response                Response   \n",
      "1                                                 No                    Male   \n",
      "2                                                Yes                    Male   \n",
      "3                                                 No                    Male   \n",
      "4                                                Yes                    Male   \n",
      "5                                                 No                    Male   \n",
      "6                                                Yes                    Male   \n",
      "7                                                 No                    Male   \n",
      "8                                                Yes                    Male   \n",
      "9                                                 No                    Male   \n",
      "\n",
      "        Age     Household Income                         Education  \\\n",
      "0  Response             Response                          Response   \n",
      "1     18-29                  NaN                High school degree   \n",
      "2     18-29         $0 - $24,999                   Bachelor degree   \n",
      "3     18-29         $0 - $24,999                High school degree   \n",
      "4     18-29  $100,000 - $149,999  Some college or Associate degree   \n",
      "5     18-29  $100,000 - $149,999  Some college or Associate degree   \n",
      "6     18-29    $25,000 - $49,999                   Bachelor degree   \n",
      "7     18-29                  NaN                High school degree   \n",
      "8     18-29                  NaN                High school degree   \n",
      "9     18-29         $0 - $24,999  Some college or Associate degree   \n",
      "\n",
      "  Location (Census Region)  \n",
      "0                 Response  \n",
      "1           South Atlantic  \n",
      "2       West South Central  \n",
      "3       West North Central  \n",
      "4       West North Central  \n",
      "5       West North Central  \n",
      "6          Middle Atlantic  \n",
      "7       East North Central  \n",
      "8           South Atlantic  \n",
      "9           South Atlantic  \n",
      "\n",
      "[10 rows x 38 columns]\n",
      "(1187, 38)\n"
     ]
    }
   ],
   "source": [
    "print(star_wars.head(10))\n",
    "print(star_wars.shape)"
   ]
  },
  {
   "cell_type": "code",
   "execution_count": 26,
   "metadata": {},
   "outputs": [
    {
     "name": "stdout",
     "output_type": "stream",
     "text": [
      "Index(['RespondentID',\n",
      "       'Have you seen any of the 6 films in the Star Wars franchise?',\n",
      "       'Do you consider yourself to be a fan of the Star Wars film franchise?',\n",
      "       'Which of the following Star Wars films have you seen? Please select all that apply.',\n",
      "       'Unnamed: 4', 'Unnamed: 5', 'Unnamed: 6', 'Unnamed: 7', 'Unnamed: 8',\n",
      "       'Please rank the Star Wars films in order of preference with 1 being your favorite film in the franchise and 6 being your least favorite film.',\n",
      "       'Unnamed: 10', 'Unnamed: 11', 'Unnamed: 12', 'Unnamed: 13',\n",
      "       'Unnamed: 14',\n",
      "       'Please state whether you view the following characters favorably, unfavorably, or are unfamiliar with him/her.',\n",
      "       'Unnamed: 16', 'Unnamed: 17', 'Unnamed: 18', 'Unnamed: 19',\n",
      "       'Unnamed: 20', 'Unnamed: 21', 'Unnamed: 22', 'Unnamed: 23',\n",
      "       'Unnamed: 24', 'Unnamed: 25', 'Unnamed: 26', 'Unnamed: 27',\n",
      "       'Unnamed: 28', 'Which character shot first?',\n",
      "       'Are you familiar with the Expanded Universe?',\n",
      "       'Do you consider yourself to be a fan of the Expanded Universe?æ',\n",
      "       'Do you consider yourself to be a fan of the Star Trek franchise?',\n",
      "       'Gender', 'Age', 'Household Income', 'Education',\n",
      "       'Location (Census Region)'],\n",
      "      dtype='object')\n"
     ]
    }
   ],
   "source": [
    "print(star_wars.columns)"
   ]
  },
  {
   "cell_type": "code",
   "execution_count": 27,
   "metadata": {},
   "outputs": [
    {
     "name": "stdout",
     "output_type": "stream",
     "text": [
      "(1186, 38)\n"
     ]
    }
   ],
   "source": [
    "import pandas as pd\n",
    "star_wars = star_wars[pd.notnull(star_wars[\"RespondentID\"])]\n",
    "print(star_wars.shape)"
   ]
  },
  {
   "cell_type": "code",
   "execution_count": 28,
   "metadata": {
    "collapsed": true
   },
   "outputs": [],
   "source": [
    "yes_no = {\"Yes\": True, \"No\": False}\n",
    "star_wars[\"Have you seen any of the 6 films in the Star Wars franchise?\"] = star_wars[\"Have you seen any of the 6 films in the Star Wars franchise?\"].map(yes_no)\n",
    "star_wars[\"Do you consider yourself to be a fan of the Star Wars film franchise?\"] = star_wars[\"Do you consider yourself to be a fan of the Star Wars film franchise?\"].map(yes_no)"
   ]
  },
  {
   "cell_type": "code",
   "execution_count": 29,
   "metadata": {
    "collapsed": true
   },
   "outputs": [
    {
     "name": "stdout",
     "output_type": "stream",
     "text": [
      "1        True\n",
      "2       False\n",
      "3        True\n",
      "4        True\n",
      "5        True\n",
      "6        True\n",
      "7        True\n",
      "8        True\n",
      "9        True\n",
      "10       True\n",
      "11       True\n",
      "12      False\n",
      "13       True\n",
      "14       True\n",
      "15       True\n",
      "16       True\n",
      "17       True\n",
      "18       True\n",
      "19       True\n",
      "20       True\n",
      "21       True\n",
      "22       True\n",
      "23       True\n",
      "24       True\n",
      "25       True\n",
      "26      False\n",
      "27       True\n",
      "28       True\n",
      "29       True\n",
      "30       True\n",
      "        ...  \n",
      "1157     True\n",
      "1158    False\n",
      "1159     True\n",
      "1160    False\n",
      "1161     True\n",
      "1162     True\n",
      "1163     True\n",
      "1164     True\n",
      "1165     True\n",
      "1166     True\n",
      "1167     True\n",
      "1168     True\n",
      "1169    False\n",
      "1170     True\n",
      "1171    False\n",
      "1172     True\n",
      "1173     True\n",
      "1174     True\n",
      "1175     True\n",
      "1176     True\n",
      "1177     True\n",
      "1178     True\n",
      "1179    False\n",
      "1180     True\n",
      "1181     True\n",
      "1182     True\n",
      "1183     True\n",
      "1184    False\n",
      "1185     True\n",
      "1186     True\n",
      "Name: Have you seen any of the 6 films in the Star Wars franchise?, Length: 1186, dtype: bool\n",
      "1        True\n",
      "2         NaN\n",
      "3       False\n",
      "4        True\n",
      "5        True\n",
      "6        True\n",
      "7        True\n",
      "8        True\n",
      "9        True\n",
      "10      False\n",
      "11        NaN\n",
      "12        NaN\n",
      "13      False\n",
      "14       True\n",
      "15       True\n",
      "16       True\n",
      "17       True\n",
      "18       True\n",
      "19       True\n",
      "20       True\n",
      "21       True\n",
      "22      False\n",
      "23       True\n",
      "24       True\n",
      "25       True\n",
      "26        NaN\n",
      "27       True\n",
      "28       True\n",
      "29       True\n",
      "30       True\n",
      "        ...  \n",
      "1157    False\n",
      "1158      NaN\n",
      "1159    False\n",
      "1160      NaN\n",
      "1161    False\n",
      "1162    False\n",
      "1163     True\n",
      "1164    False\n",
      "1165    False\n",
      "1166     True\n",
      "1167     True\n",
      "1168    False\n",
      "1169      NaN\n",
      "1170     True\n",
      "1171      NaN\n",
      "1172     True\n",
      "1173     True\n",
      "1174     True\n",
      "1175    False\n",
      "1176     True\n",
      "1177    False\n",
      "1178    False\n",
      "1179      NaN\n",
      "1180     True\n",
      "1181     True\n",
      "1182     True\n",
      "1183     True\n",
      "1184      NaN\n",
      "1185     True\n",
      "1186    False\n",
      "Name: Do you consider yourself to be a fan of the Star Wars film franchise?, Length: 1186, dtype: object\n"
     ]
    }
   ],
   "source": [
    "print(star_wars[\"Have you seen any of the 6 films in the Star Wars franchise?\"])\n",
    "print(star_wars[\"Do you consider yourself to be a fan of the Star Wars film franchise?\"])"
   ]
  },
  {
   "cell_type": "code",
   "execution_count": 30,
   "metadata": {},
   "outputs": [
    {
     "name": "stdout",
     "output_type": "stream",
     "text": [
      "Star Wars: Episode I  The Phantom Menace    673\n",
      "Name: Which of the following Star Wars films have you seen? Please select all that apply., dtype: int64\n",
      "Star Wars: Episode II  Attack of the Clones    571\n",
      "Name: Unnamed: 4, dtype: int64\n",
      "Star Wars: Episode III  Revenge of the Sith    550\n",
      "Name: Unnamed: 5, dtype: int64\n",
      "Star Wars: Episode IV  A New Hope    607\n",
      "Name: Unnamed: 6, dtype: int64\n",
      "Star Wars: Episode V The Empire Strikes Back    758\n",
      "Name: Unnamed: 7, dtype: int64\n",
      "Star Wars: Episode VI Return of the Jedi    738\n",
      "Name: Unnamed: 8, dtype: int64\n"
     ]
    }
   ],
   "source": [
    "print(star_wars['Which of the following Star Wars films have you seen? Please select all that apply.'].value_counts())\n",
    "print(star_wars['Unnamed: 4'].value_counts())\n",
    "print(star_wars['Unnamed: 5'].value_counts())\n",
    "print(star_wars['Unnamed: 6'].value_counts())\n",
    "print(star_wars['Unnamed: 7'].value_counts())\n",
    "print(star_wars['Unnamed: 8'].value_counts())"
   ]
  },
  {
   "cell_type": "code",
   "execution_count": 31,
   "metadata": {
    "collapsed": true
   },
   "outputs": [],
   "source": [
    "star_wars = star_wars.rename(columns={\n",
    "    \"Which of the following Star Wars films have you seen? Please select all that apply.\": \"seen_1\", \n",
    "    'Unnamed: 4': \"seen_2\",\n",
    "    'Unnamed: 5': \"seen_3\",\n",
    "    'Unnamed: 6': \"seen_4\",\n",
    "    'Unnamed: 7': \"seen_5\",\n",
    "    'Unnamed: 8': \"seen_6\"\n",
    "    })"
   ]
  },
  {
   "cell_type": "code",
   "execution_count": 32,
   "metadata": {},
   "outputs": [],
   "source": [
    "cols = [\"seen_1\", 'seen_2', 'seen_3', 'seen_4', 'seen_5', 'seen_6']\n",
    "star_wars[cols] = star_wars[cols].fillna(0)\n",
    "ep1 = {\"Star Wars: Episode I  The Phantom Menace\": True, 0: False}\n",
    "ep2 = {\"Star Wars: Episode II  Attack of the Clones\": True, 0: False}\n",
    "ep3 = {\"Star Wars: Episode III  Revenge of the Sith\": True, 0: False}\n",
    "ep4 = {\"Star Wars: Episode IV  A New Hope\": True, 0: False}\n",
    "ep5 = {\"Star Wars: Episode V The Empire Strikes Back\": True, 0: False}\n",
    "ep6 = {\"Star Wars: Episode VI Return of the Jedi\": True, 0: False}\n",
    "star_wars[\"seen_1\"] = star_wars[\"seen_1\"].map(ep1)\n",
    "star_wars['seen_2'] = star_wars['seen_2'].map(ep2)\n",
    "star_wars['seen_3'] = star_wars['seen_3'].map(ep3)\n",
    "star_wars['seen_4'] = star_wars['seen_4'].map(ep4)\n",
    "star_wars['seen_5'] = star_wars['seen_5'].map(ep5)\n",
    "star_wars['seen_6'] = star_wars['seen_6'].map(ep6)"
   ]
  },
  {
   "cell_type": "code",
   "execution_count": 33,
   "metadata": {
    "collapsed": true
   },
   "outputs": [
    {
     "name": "stdout",
     "output_type": "stream",
     "text": [
      "1        True\n",
      "2       False\n",
      "3        True\n",
      "4        True\n",
      "5        True\n",
      "6        True\n",
      "7        True\n",
      "8        True\n",
      "9        True\n",
      "10       True\n",
      "11      False\n",
      "12      False\n",
      "13       True\n",
      "14       True\n",
      "15       True\n",
      "16       True\n",
      "17      False\n",
      "18       True\n",
      "19       True\n",
      "20       True\n",
      "21       True\n",
      "22       True\n",
      "23       True\n",
      "24       True\n",
      "25       True\n",
      "26      False\n",
      "27       True\n",
      "28       True\n",
      "29       True\n",
      "30       True\n",
      "        ...  \n",
      "1157     True\n",
      "1158    False\n",
      "1159    False\n",
      "1160    False\n",
      "1161    False\n",
      "1162     True\n",
      "1163    False\n",
      "1164    False\n",
      "1165     True\n",
      "1166     True\n",
      "1167     True\n",
      "1168    False\n",
      "1169    False\n",
      "1170    False\n",
      "1171    False\n",
      "1172     True\n",
      "1173    False\n",
      "1174     True\n",
      "1175     True\n",
      "1176     True\n",
      "1177     True\n",
      "1178     True\n",
      "1179    False\n",
      "1180    False\n",
      "1181     True\n",
      "1182     True\n",
      "1183     True\n",
      "1184    False\n",
      "1185     True\n",
      "1186     True\n",
      "Name: seen_2, Length: 1186, dtype: bool\n"
     ]
    }
   ],
   "source": [
    "print(star_wars['seen_2'])"
   ]
  },
  {
   "cell_type": "code",
   "execution_count": 34,
   "metadata": {},
   "outputs": [
    {
     "name": "stdout",
     "output_type": "stream",
     "text": [
      "4    237\n",
      "6    168\n",
      "3    130\n",
      "1    129\n",
      "5    100\n",
      "2     71\n",
      "Name: Please rank the Star Wars films in order of preference with 1 being your favorite film in the franchise and 6 being your least favorite film., dtype: int64\n",
      "5    300\n",
      "4    183\n",
      "2    116\n",
      "3    103\n",
      "6    102\n",
      "1     32\n",
      "Name: Unnamed: 10, dtype: int64\n",
      "6    217\n",
      "5    203\n",
      "4    182\n",
      "3    150\n",
      "2     47\n",
      "1     36\n",
      "Name: Unnamed: 11, dtype: int64\n",
      "1    204\n",
      "6    161\n",
      "2    135\n",
      "4    130\n",
      "3    127\n",
      "5     79\n",
      "Name: Unnamed: 12, dtype: int64\n",
      "1    289\n",
      "2    235\n",
      "5    118\n",
      "3    106\n",
      "4     47\n",
      "6     41\n",
      "Name: Unnamed: 13, dtype: int64\n",
      "2    232\n",
      "3    220\n",
      "1    146\n",
      "6    145\n",
      "4     57\n",
      "5     36\n",
      "Name: Unnamed: 14, dtype: int64\n"
     ]
    }
   ],
   "source": [
    "print(star_wars['Please rank the Star Wars films in order of preference with 1 being your favorite film in the franchise and 6 being your least favorite film.'].value_counts())\n",
    "print(star_wars['Unnamed: 10'].value_counts())\n",
    "print(star_wars['Unnamed: 11'].value_counts())\n",
    "print(star_wars['Unnamed: 12'].value_counts())\n",
    "print(star_wars['Unnamed: 13'].value_counts())\n",
    "print(star_wars['Unnamed: 14'].value_counts())"
   ]
  },
  {
   "cell_type": "code",
   "execution_count": 35,
   "metadata": {
    "collapsed": true
   },
   "outputs": [],
   "source": [
    "star_wars = star_wars.rename(columns={\n",
    "    'Please rank the Star Wars films in order of preference with 1 being your favorite film in the franchise and 6 being your least favorite film.': \"ranking_1\", \n",
    "    'Unnamed: 10': \"ranking_2\",\n",
    "    'Unnamed: 11': \"ranking_3\",\n",
    "    'Unnamed: 12': \"ranking_4\",\n",
    "    'Unnamed: 13': \"ranking_5\",\n",
    "    'Unnamed: 14': \"ranking_6\"\n",
    "    })"
   ]
  },
  {
   "cell_type": "code",
   "execution_count": 36,
   "metadata": {
    "collapsed": true
   },
   "outputs": [],
   "source": [
    "star_wars[star_wars.columns[9:15]] = star_wars[star_wars.columns[9:15]].astype(float)"
   ]
  },
  {
   "cell_type": "code",
   "execution_count": 40,
   "metadata": {},
   "outputs": [
    {
     "name": "stdout",
     "output_type": "stream",
     "text": [
      "3.7329341317365268\n",
      "4.087320574162679\n",
      "4.341317365269461\n",
      "3.272727272727273\n",
      "2.513157894736842\n",
      "3.047846889952153\n"
     ]
    }
   ],
   "source": [
    "rank1 = star_wars[\"ranking_1\"].mean()\n",
    "rank2 = star_wars[\"ranking_2\"].mean()\n",
    "rank3 = star_wars[\"ranking_3\"].mean()\n",
    "rank4 = star_wars[\"ranking_4\"].mean()\n",
    "rank5 = star_wars[\"ranking_5\"].mean()\n",
    "rank6 = star_wars[\"ranking_6\"].mean()\n",
    "print(rank1)\n",
    "print(rank2)\n",
    "print(rank3)\n",
    "print(rank4)\n",
    "print(rank5)\n",
    "print(rank6)"
   ]
  },
  {
   "cell_type": "code",
   "execution_count": 42,
   "metadata": {},
   "outputs": [
    {
     "data": {
      "image/png": "[encoded data removed]",
      "text/plain": [
       "<matplotlib.figure.Figure at 0x112e74f98>"
      ]
     },
     "metadata": {},
     "output_type": "display_data"
    }
   ],
   "source": [
    "import matplotlib.pyplot as plt\n",
    "import numpy as np\n",
    "cols = [\"ep I\", \"ep II\", \"ep III\", \"ep IV\", \"ep V\", \"ep VI\"]\n",
    "from numpy import arange\n",
    "fig, ax = plt.subplots()\n",
    "bar_heights1 = [rank1, rank2, rank3, rank4, rank5, rank6]\n",
    "bar_positions = arange(6) + 1\n",
    "ax.bar(bar_positions, bar_heights1)\n",
    "tick_positions = range(1,7)\n",
    "ax.set_xticks(tick_positions)\n",
    "ax.set_xticklabels(cols)\n",
    "plt.xlabel(\"Satr Wars episode\")\n",
    "plt.ylabel(\"Average score (1=best, 6=worst)\")\n",
    "plt.show()"
   ]
  },
  {
   "cell_type": "markdown",
   "metadata": {},
   "source": [
    "ep V > ep VI > ep IV > ep I > ep II > ep III"
   ]
  },
  {
   "cell_type": "code",
   "execution_count": 43,
   "metadata": {},
   "outputs": [
    {
     "name": "stdout",
     "output_type": "stream",
     "text": [
      "673\n",
      "571\n",
      "550\n",
      "607\n",
      "758\n",
      "738\n"
     ]
    }
   ],
   "source": [
    "seen1 = star_wars['seen_1'].sum()\n",
    "seen2 = star_wars['seen_2'].sum()\n",
    "seen3 = star_wars['seen_3'].sum()\n",
    "seen4 = star_wars['seen_4'].sum()\n",
    "seen5 = star_wars['seen_5'].sum()\n",
    "seen6 = star_wars['seen_6'].sum()\n",
    "print(seen1)\n",
    "print(seen2)\n",
    "print(seen3)\n",
    "print(seen4)\n",
    "print(seen5)\n",
    "print(seen6)"
   ]
  },
  {
   "cell_type": "code",
   "execution_count": 45,
   "metadata": {},
   "outputs": [
    {
     "data": {
      "image/png": "[encoded data removed]",
      "text/plain": [
       "<matplotlib.figure.Figure at 0x11b48e3c8>"
      ]
     },
     "metadata": {},
     "output_type": "display_data"
    }
   ],
   "source": [
    "import matplotlib.pyplot as plt\n",
    "import numpy as np\n",
    "cols = [\"ep I\", \"ep II\", \"ep III\", \"ep IV\", \"ep V\", \"ep VI\"]\n",
    "from numpy import arange\n",
    "fig, ax = plt.subplots()\n",
    "bar_heights2 = [seen1, seen2, seen3, seen4, seen5, seen6]\n",
    "bar_positions = arange(6) + 1\n",
    "ax.bar(bar_positions, bar_heights2)\n",
    "tick_positions = range(1,7)\n",
    "ax.set_xticks(tick_positions)\n",
    "ax.set_xticklabels(cols)\n",
    "plt.xlabel(\"Star Wars episode\")\n",
    "plt.ylabel(\"Number of people in the survey who have seen it\")\n",
    "plt.show()"
   ]
  },
  {
   "cell_type": "code",
   "execution_count": 46,
   "metadata": {},
   "outputs": [
    {
     "data": {
      "image/png": "[encoded data removed]",
      "text/plain": [
       "<matplotlib.figure.Figure at 0x11b577908>"
      ]
     },
     "metadata": {},
     "output_type": "display_data"
    }
   ],
   "source": [
    "import matplotlib.pyplot as plt\n",
    "fig, ax = plt.subplots()\n",
    "ax.scatter(bar_heights1, bar_heights2)\n",
    "plt.ylabel(\"film seen\")\n",
    "plt.xlabel(\"film ranking\")\n",
    "plt.show()"
   ]
  },
  {
   "cell_type": "markdown",
   "metadata": {},
   "source": [
    "Strong correlation! The more a movie is popular, the more it gets seen."
   ]
  },
  {
   "cell_type": "code",
   "execution_count": null,
   "metadata": {
    "collapsed": true
   },
   "outputs": [],
   "source": []
  }
 ],
 "metadata": {
  "kernelspec": {
   "display_name": "Python 3",
   "language": "python",
   "name": "python3"
  },
  "language_info": {
   "codemirror_mode": {
    "name": "ipython",
    "version": 3
   },
   "file_extension": ".py",
   "mimetype": "text/x-python",
   "name": "python",
   "nbconvert_exporter": "python",
   "pygments_lexer": "ipython3",
   "version": "3.6.3"
  }
 },
 "nbformat": 4,
 "nbformat_minor": 2
}
